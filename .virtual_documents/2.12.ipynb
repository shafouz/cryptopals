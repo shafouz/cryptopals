from base64 import b64decode
from Crypto.Cipher import AES
from Crypto.Util.Padding import pad
from pwnlib.util.lists import group
from secrets import token_bytes
from string import printable

class Oracle:
    key = token_bytes(AES.block_size)
    unknown = 'Um9sbGluJyBpbiBteSA1LjAKV2l0aCBteSByYWctdG9wIGRvd24gc28gbXkgaGFpciBjYW4gYmxvdwpUaGUgZ2lybGllcyBvbiBzdGFu\
               ZGJ5IHdhdmluZyBqdXN0IHRvIHNheSBoaQpEaWQgeW91IHN0b3A/IE5vLCBJIGp1c3QgZHJvdmUgYnkK'
    unknown = b64decode(unknown)

    def encrypt(self, plaintext):
        aes_ecb = AES.new(self.key, AES.MODE_ECB)
        plaintext = plaintext + self.unknown
        plaintext = pad(plaintext, AES.block_size)
        return aes_ecb.encrypt(plaintext)

def guess_byte(guess, qs, oracle):
    for char in range(0, 256):
        res = oracle.encrypt(qs + bytes([char]))
        if res == guess:
            return char
    
def run():
    oracle = Oracle()
    block_size = 16
    found = b''

    start = 0
    end = 16

run()    


def diff(qs1, qs2, digest=False):
    sol = '''Rollin' in my 5.0\\nWith my rag-top down so my hair can blow\\nThe girlies on standby waving just to say hi\\nDid you stop? No, I just drove by'''
    for i in range(0, 512, 16):
        if qs1[i:i+16] == b'': break
        try:
            if not digest:
                print(f"{i}: {qs1[i:i+16]}")
                print(f"{i}: {qs2[i:i+16]}")
            else:
                print(f"{i}: {qs1[i:i+16].hex()}")
                print(f"{i}: {qs2[i:i+16].hex()}")
        except:
            break

def split16(string):
    start = 0
    end = 16
    while True:
        if len(string[start:end]) == 0: return
        print("|" + string[start:end] + "|")
        start += 16
        end += 16

sol = '''Rollin' in my 5.0\\nWith my rag-top down so my hair can blow\\nThe girlies on standby waving just to say hi\\nDid you stop? No, I just drove by'''



oracle = Oracle()
target = b"A" * 15
qs_target = oracle.encrypt(target)

attack = b"A" * 15 + b"R"
print(len(attack))
qs_attack = oracle.encrypt(attack)

diff(qs_target, qs_attack)


target = b""
qs_target = oracle.encrypt(target)

attack = b"Rollin' in my 5."
print(len(attack))
qs_attack = oracle.encrypt(attack)

diff(qs_target, qs_attack)


print(len(b"Rollin' in my 5."))
target = b"Rollin' in my 5." + b"A" * 15
qs_target = oracle.encrypt(target)[16:32]

attack = b"Rollin' in my 5." + b"A" * 15 + b"0"
print(len(attack))
qs_attack = oracle.encrypt(attack)[16:32]

diff(qs_target, qs_attack)
split16(sol)


target = b"A" * 15
qs_target = oracle.encrypt(target)

attack = b"A" * 15 + b"Rollin' in my 5."
print(len(attack))
qs_attack = oracle.encrypt(attack)

diff(qs_target, qs_attack, digest=True)


split16("A"*15 + sol)


target = b"A" * 14
qs_target = oracle.encrypt(target)

attack = b"A" * 14 + b"A" * 16
print(len(attack))
qs_attack = oracle.encrypt(attack)

diff(qs_target, qs_attack, digest=True)


found = b""
start = 0
end = 16

for k in range(0, 9):
    offset = 15
    
    for _ in range(16):
        target = b"A" * offset
        guess = oracle.encrypt(target)[start:end]
        
        for char in range(256):
            query = target + found + bytes([char])
            query_guess = oracle.encrypt(query)[start:end]
            if guess == query_guess:
                #diff(oracle.encrypt(target), oracle.encrypt(query), digest=True)
                #print("- " + chr(char) + " -")
                offset -= 1
                found = found + bytes([char])
                break
                
    start += 16
    end += 16

print(found)


sola = b'''AAAAAAAAAAAAAAA?.0\\nWith my rag-top down so my hair can blow\\nThe girlies on standby waving just to say hi\\nDid you stop? No, I just drove by'''
solb = b'''AAAAAAAAAAAAAAAR.0\\nWith my rag-top down so my hair can blow\\nThe girlies on standby waving just to say hi\\nDid you stop? No, I just drove by'''
diff(oracle.encrypt(sola), oracle.encrypt(solb), digest=True)



