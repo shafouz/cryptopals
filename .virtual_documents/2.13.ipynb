from urllib.parse import urlparse, parse_qs, urlencode
from Crypto.Cipher import AES
from Crypto.Util.Padding import pad, unpad
from secrets import token_bytes

def qs(query):
    return {k:v[0] for k,v in parse_qs(query).items()}

def profile_for(email):
    qs = {'email':email, 'uid':10, 'role':'user'}
    #return urlencode(qs, safe="").encode()
    _filter = "".join([chr(b) for b in range(256)]).replace("&", "").replace("=", "")
    return urlencode(qs, safe=_filter).encode()

def split16(string):
    start = 0
    end = 16
    while True:
        if len(string[start:end]) == 0:
            print("")
            return
        print("|" + string[start:end] + "| " + str(len(string[start:end])))
        start += 16
        end += 16
    
class ENC:
    key = token_bytes(AES.block_size)
    
    def encrypt(self, plaintext):
        aes_ecb = AES.new(self.key, AES.MODE_ECB)
        plaintext = pad(plaintext, AES.block_size)
        split16(plaintext.decode())
        return aes_ecb.encrypt(plaintext)

    def decrypt(self, cyphertext):
        aes_ecb = AES.new(self.key, AES.MODE_ECB)
        return unpad(aes_ecb.decrypt(cyphertext), 16)
    
profile_for("a@a.a&role=admin")


enc = ENC()
_input = "&role=admin"
print(len(_input))
prof = profile_for("AAAAAAAAAA" + _input + _input + _input)
split16(prof.decode())
encrypted = enc.encrypt(prof)
split16(encrypted.hex())
decrypted = enc.decrypt(encrypted)
print(decrypted)
parse = qs(decrypted)
print(parse)


block = "email=a@a.c&uid=".encode()
print(len(block))
digest = enc.encrypt(block).hex()[:32]
print(digest, len(digest))

block2 = "10000&role=admin".encode()
print(len(block2))
digest = enc.encrypt(block2).hex()[:32]
print(digest, len(digest))


for char in range(256):
    char = bytes([char])
    guess = b"AAAAAAAAA" + char
    print(guess, len(guess), len(guess) + len("email="))
    split16(enc.encrypt(profile_for(guess)).hex())



