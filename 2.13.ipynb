{
 "cells": [
  {
   "cell_type": "code",
   "execution_count": 67,
   "id": "7ced7c70-3e45-4ae0-9b63-1c7a6497df30",
   "metadata": {},
   "outputs": [
    {
     "data": {
      "text/plain": [
       "b'email=a@a.a%26%26role%3Dadmin&uid=10&role=user'"
      ]
     },
     "execution_count": 67,
     "metadata": {},
     "output_type": "execute_result"
    }
   ],
   "source": [
    "from urllib.parse import urlparse, parse_qs, urlencode\n",
    "from Crypto.Cipher import AES\n",
    "from Crypto.Util.Padding import pad, unpad\n",
    "from secrets import token_bytes\n",
    "\n",
    "def qs(query):\n",
    "    return {k:v[0] for k,v in parse_qs(query).items()}\n",
    "\n",
    "def profile_for(email):\n",
    "    qs = {'email':email, 'uid':10, 'role':'user'}\n",
    "    #return urlencode(qs, safe=\"\").encode()\n",
    "    _filter = \"\".join([chr(b) for b in range(256)]).replace(\"&\", \"\").replace(\"=\", \"\")\n",
    "    return urlencode(qs, safe=_filter).encode()\n",
    "\n",
    "def split16(string):\n",
    "    start = 0\n",
    "    end = 16\n",
    "    while True:\n",
    "        print(\"|{:<16}| {}\".format(string[start:end], len(string[start:end])))\n",
    "        if len(string[start:end]) == 0:\n",
    "            print(\"\")\n",
    "            return\n",
    "        start += 16\n",
    "        end += 16\n",
    "    \n",
    "class ENC:\n",
    "    key = token_bytes(AES.block_size)\n",
    "    \n",
    "    def encrypt(self, plaintext):\n",
    "        aes_ecb = AES.new(self.key, AES.MODE_ECB)\n",
    "        plaintext = pad(plaintext, AES.block_size)\n",
    "        split16(plaintext.decode())\n",
    "        return aes_ecb.encrypt(plaintext)\n",
    "\n",
    "    def decrypt(self, cyphertext):\n",
    "        aes_ecb = AES.new(self.key, AES.MODE_ECB)\n",
    "        return unpad(aes_ecb.decrypt(cyphertext), 16)\n",
    "    \n",
    "profile_for(\"a@a.a&&role=admin\")"
   ]
  },
  {
   "cell_type": "code",
   "execution_count": 68,
   "id": "18c0933b-c66b-4910-92ac-8cde7bc76b9a",
   "metadata": {},
   "outputs": [
    {
     "name": "stdout",
     "output_type": "stream",
     "text": [
      "11\n",
      "|email=AAAAAAAAAA| 16\n",
      "|%26role%3Dadmin%| 16\n",
      "|26role%3Dadmin%2| 16\n",
      "|6role%3Dadmin&ui| 16\n",
      "|d=10&role=user  | 14\n",
      "|                | 0\n",
      "\n",
      "|email=AAAAAAAAAA| 16\n",
      "|%26role%3Dadmin%| 16\n",
      "|26role%3Dadmin%2| 16\n",
      "|6role%3Dadmin&ui| 16\n",
      "|d=10&role=user\u0002\u0002| 16\n",
      "|                | 0\n",
      "\n",
      "|c8bfef78327ea65b| 16\n",
      "|00136531c20471c2| 16\n",
      "|1af75c959f24911f| 16\n",
      "|d7c1bae62650d697| 16\n",
      "|74e03253ab59ede4| 16\n",
      "|1fbe939ba4f2d5a3| 16\n",
      "|2364bf73051dfdb4| 16\n",
      "|4648240ff392b0ee| 16\n",
      "|287a6e51e7835c40| 16\n",
      "|4d0ec2347c9ddcfd| 16\n",
      "|                | 0\n",
      "\n",
      "b'email=AAAAAAAAAA%26role%3Dadmin%26role%3Dadmin%26role%3Dadmin&uid=10&role=user'\n",
      "{b'email': b'AAAAAAAAAA&role=admin&role=admin&role=admin', b'uid': b'10', b'role': b'user'}\n"
     ]
    }
   ],
   "source": [
    "enc = ENC()\n",
    "_input = \"&role=admin\"\n",
    "print(len(_input))\n",
    "prof = profile_for(\"AAAAAAAAAA\" + _input + _input + _input)\n",
    "split16(prof.decode())\n",
    "encrypted = enc.encrypt(prof)\n",
    "split16(encrypted.hex())\n",
    "decrypted = enc.decrypt(encrypted)\n",
    "print(decrypted)\n",
    "parse = qs(decrypted)\n",
    "print(parse)"
   ]
  },
  {
   "cell_type": "code",
   "execution_count": 29,
   "id": "2b66698d-f077-4110-8678-58a8397d712f",
   "metadata": {},
   "outputs": [
    {
     "name": "stdout",
     "output_type": "stream",
     "text": [
      "block:  16\n",
      "|email=a@a.c&uid=\u0010\u0010\u0010\u0010\u0010\u0010\u0010\u0010\u0010\u0010\u0010\u0010\u0010\u0010\u0010\u0010| 16\n",
      "|\u0010\u0010\u0010\u0010\u0010\u0010\u0010\u0010\u0010\u0010\u0010\u0010\u0010\u0010\u0010\u0010\u0010\u0010\u0010\u0010\u0010\u0010\u0010\u0010\u0010\u0010\u0010\u0010\u0010\u0010\u0010\u0010| 16\n",
      "\n",
      "75089ae571852c1cf54e483c47bccc13 32\n",
      "block2:  16\n",
      "|10000&role=admin\u0010\u0010\u0010\u0010\u0010\u0010\u0010\u0010\u0010\u0010\u0010\u0010\u0010\u0010\u0010\u0010| 16\n",
      "|\u0010\u0010\u0010\u0010\u0010\u0010\u0010\u0010\u0010\u0010\u0010\u0010\u0010\u0010\u0010\u0010\u0010\u0010\u0010\u0010\u0010\u0010\u0010\u0010\u0010\u0010\u0010\u0010\u0010\u0010\u0010\u0010| 16\n",
      "\n",
      "cec55e0c93f42ebb8e77e1f0cec26405 32\n"
     ]
    }
   ],
   "source": [
    "block = \"email=a@a.c&uid=\".encode()\n",
    "print(\"block: \", len(block))\n",
    "digest = enc.encrypt(block).hex()[:32]\n",
    "print(digest, len(digest))\n",
    "\n",
    "block2 = \"10000&role=admin\".encode()\n",
    "print(\"block2: \", len(block2))\n",
    "digest = enc.encrypt(block2).hex()[:32]\n",
    "print(digest, len(digest))"
   ]
  },
  {
   "cell_type": "code",
   "execution_count": 72,
   "id": "93bb6363-fdb7-4df8-9b87-2d210d24e210",
   "metadata": {},
   "outputs": [
    {
     "name": "stdout",
     "output_type": "stream",
     "text": [
      "|email=AAAAAAAAAA| 16\n",
      "|&uid=10&role=use| 16\n",
      "|r\u000f\u000f\u000f\u000f\u000f\u000f\u000f\u000f\u000f\u000f\u000f\u000f\u000f\u000f\u000f| 16\n",
      "|                | 0\n",
      "\n",
      "b'AAAAAAAAAA\\x00&role=admin' 22 28\n",
      "|email=AAAAAAAAAA| 16\n",
      "|\u0000%26role%3Dadmin| 16\n",
      "|&uid=10&role=use| 16\n",
      "|r\u000f\u000f\u000f\u000f\u000f\u000f\u000f\u000f\u000f\u000f\u000f\u000f\u000f\u000f\u000f| 16\n",
      "|                | 0\n",
      "\n",
      "|c8bfef78327ea65b| 16\n",
      "|00136531c20471c2| 16\n",
      "|c3102d688fad7353| 16\n",
      "|1422a0216c1e0da4| 16\n",
      "|b5a1043cfb26b243| 16\n",
      "|eaac832edb55b5ce| 16\n",
      "|931531619d2fab8b| 16\n",
      "|d5c112293be829dc| 16\n",
      "|                | 0\n",
      "\n",
      "b'AAAAAAAAAA\\x01&role=admin' 22 28\n",
      "|email=AAAAAAAAAA| 16\n",
      "|\u0001%26role%3Dadmin| 16\n",
      "|&uid=10&role=use| 16\n",
      "|r\u000f\u000f\u000f\u000f\u000f\u000f\u000f\u000f\u000f\u000f\u000f\u000f\u000f\u000f\u000f| 16\n",
      "|                | 0\n",
      "\n",
      "|c8bfef78327ea65b| 16\n",
      "|00136531c20471c2| 16\n",
      "|d437061cd60b35dc| 16\n",
      "|c64d09d05c6b7039| 16\n",
      "|b5a1043cfb26b243| 16\n",
      "|eaac832edb55b5ce| 16\n",
      "|931531619d2fab8b| 16\n",
      "|d5c112293be829dc| 16\n",
      "|                | 0\n",
      "\n"
     ]
    }
   ],
   "source": [
    "enc.encrypt(profile_for(\"AAAAAAAAAA\"))\n",
    "\n",
    "for char in range(2):\n",
    "    char = bytes([char])\n",
    "    guess = b\"AAAAAAAAAA\" + char + b\"&role=admin\"\n",
    "    print(guess, len(guess), len(guess) + len(\"email=\"))\n",
    "    split16(enc.encrypt(profile_for(guess)).hex())"
   ]
  },
  {
   "cell_type": "code",
   "execution_count": null,
   "id": "94dd5c25-74b0-4709-8d31-d133d7a4f758",
   "metadata": {},
   "outputs": [],
   "source": []
  }
 ],
 "metadata": {
  "kernelspec": {
   "display_name": "Python 3 (ipykernel)",
   "language": "python",
   "name": "python3"
  },
  "language_info": {
   "codemirror_mode": {
    "name": "ipython",
    "version": 3
   },
   "file_extension": ".py",
   "mimetype": "text/x-python",
   "name": "python",
   "nbconvert_exporter": "python",
   "pygments_lexer": "ipython3",
   "version": "3.11.5"
  }
 },
 "nbformat": 4,
 "nbformat_minor": 5
}
