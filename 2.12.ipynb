{
 "cells": [
  {
   "cell_type": "code",
   "execution_count": 1,
   "id": "0cefa488-ee92-4636-863b-33ec1df8994c",
   "metadata": {},
   "outputs": [],
   "source": [
    "from base64 import b64decode\n",
    "from Crypto.Cipher import AES\n",
    "from Crypto.Util.Padding import pad\n",
    "from pwnlib.util.lists import group\n",
    "from secrets import token_bytes\n",
    "from string import printable\n",
    "\n",
    "class Oracle:\n",
    "    key = token_bytes(AES.block_size)\n",
    "    unknown = 'Um9sbGluJyBpbiBteSA1LjAKV2l0aCBteSByYWctdG9wIGRvd24gc28gbXkgaGFpciBjYW4gYmxvdwpUaGUgZ2lybGllcyBvbiBzdGFu\\\n",
    "               ZGJ5IHdhdmluZyBqdXN0IHRvIHNheSBoaQpEaWQgeW91IHN0b3A/IE5vLCBJIGp1c3QgZHJvdmUgYnkK'\n",
    "    unknown = b64decode(unknown)\n",
    "\n",
    "    def encrypt(self, plaintext):\n",
    "        aes_ecb = AES.new(self.key, AES.MODE_ECB)\n",
    "        plaintext = plaintext + self.unknown\n",
    "        plaintext = pad(plaintext, AES.block_size)\n",
    "        return aes_ecb.encrypt(plaintext)\n",
    "\n",
    "def guess_byte(guess, qs, oracle):\n",
    "    for char in range(0, 256):\n",
    "        res = oracle.encrypt(qs + bytes([char]))\n",
    "        if res == guess:\n",
    "            return char\n",
    "    \n",
    "def run():\n",
    "    oracle = Oracle()\n",
    "    block_size = 16\n",
    "    found = b''\n",
    "\n",
    "    start = 0\n",
    "    end = 16\n",
    "\n",
    "run()    "
   ]
  },
  {
   "cell_type": "code",
   "execution_count": 95,
   "id": "0e4ff638-ceb4-4504-b7a9-72bac47e13b7",
   "metadata": {},
   "outputs": [],
   "source": [
    "def diff(qs1, qs2, digest=False):\n",
    "    sol = '''Rollin' in my 5.0\\\\nWith my rag-top down so my hair can blow\\\\nThe girlies on standby waving just to say hi\\\\nDid you stop? No, I just drove by'''\n",
    "    for i in range(0, 512, 16):\n",
    "        if qs1[i:i+16] == b'': break\n",
    "        try:\n",
    "            if not digest:\n",
    "                print(f\"{i}: {qs1[i:i+16]}\")\n",
    "                print(f\"{i}: {qs2[i:i+16]}\")\n",
    "            else:\n",
    "                print(f\"{i}: {qs1[i:i+16].hex()}\")\n",
    "                print(f\"{i}: {qs2[i:i+16].hex()}\")\n",
    "        except:\n",
    "            break\n",
    "\n",
    "def split16(string):\n",
    "    start = 0\n",
    "    end = 16\n",
    "    while True:\n",
    "        if len(string[start:end]) == 0: return\n",
    "        print(\"|\" + string[start:end] + \"|\")\n",
    "        start += 16\n",
    "        end += 16\n",
    "\n",
    "sol = '''Rollin' in my 5.0\\\\nWith my rag-top down so my hair can blow\\\\nThe girlies on standby waving just to say hi\\\\nDid you stop? No, I just drove by'''\n"
   ]
  },
  {
   "cell_type": "code",
   "execution_count": 3,
   "id": "fe8a59ff-a709-4c29-83c8-54a4036dd750",
   "metadata": {},
   "outputs": [
    {
     "name": "stdout",
     "output_type": "stream",
     "text": [
      "16\n",
      "1:  b'\\x81|\\xf7\\x80\\xfd\\x9f z\\xcce\\x04q(\\xf6v\\xe3'\n",
      "2:  b'\\x81|\\xf7\\x80\\xfd\\x9f z\\xcce\\x04q(\\xf6v\\xe3'\n",
      "1:  b'\\x9c\\x94\\x0b\\xddt9nDw\\x127\\xf8\\\\m\\r\\xca'\n",
      "2:  b'Q1k\\x8b\\xda\\xc9/zj\\x1a\\xe8\\xca\\x0c\\xc4\\x86\\xad'\n",
      "1:  b'\\xc7Qs\\xa6m\\xfc\\x1e\\xc9nl\\x92\\xa6L\\xa7\\xbe\\xb1'\n",
      "2:  b'\\xa4\\xc5\\x9a\\xceV\\x891m|\\xc7y\\xfd\\x95\\x99\\x85\\x8e'\n",
      "1:  b'\\x1d\\xec\\xf7\\xccU\\xb4\\xf3\\xe9\\x0e\\x1dD\\x80\\xc3\\xec\"\\xe5'\n",
      "2:  b'\\x1a\\xc5\\xf3\\x03\\x94D\\xc0\\xd0/\\x17\\x0f\\x97\\x86\\\\\\x8a\\xf7'\n",
      "1:  b'\\x13\\xf6\\xb1\\xa3\\xfd\\x85\\xc6\\xb4\\x07P\\xcd<\\x00o$\\xc5'\n",
      "2:  b'V\\x83B\\x95\\x83\\x84n7\\xba\\xd9\\x1c\\xa2pR\\xe1\\xd1'\n",
      "1:  b'E\\x08Us.Q\\x9a\\x00_\\xfd\\x1a\\x04\\xad/\\x85_'\n",
      "2:  b'K\\xcd\\xa1b\\x80\\xa2\\xe3|K\\xa7\\xd6y\\x00\\x98+c'\n",
      "1:  b'\\xf5\\xa3\\xe6\\x1d\\x0e4\\x1f\\xc9@`IM\\x15-\\x8e\\xa6'\n",
      "2:  b'\\x0f\\x8dqR{\\xbf\\xc3/\\xf3sO4\\x05a\\xc4\\xf8'\n",
      "1:  b'=\\xa9\\xda\\xde\\xc9jlx!\\xa4\\x81\\x19{\\x10e\\xf3'\n",
      "2:  b'YfJ\\xd5\\x02p!Q\\xd6g\\x8f\\x82\\xc1\\n\\x93\\x0b'\n",
      "1:  b'\\xa8\\xb8\\x19\\x90\\xf4\\x83\\x06 \\xe4>\\xe44\\xec\\xfe\\xa7L'\n",
      "2:  b'\\xd0w\\xcf*\\x8cO,\\x85@3N\\n\\xb2\\x9fv('\n",
      "1:  b'\\xeb]$\\xce%S\\x0fX\\x85\\xa0jg\\xc8\\x89\\xef\\xe1'\n",
      "2:  b'\\xffc\\xa64\\x83\\xc5\\x90\\xaa|N\\xdb\\xe6\\x1eqJE'\n"
     ]
    }
   ],
   "source": [
    "oracle = Oracle()\n",
    "target = b\"A\" * 15\n",
    "qs_target = oracle.encrypt(target)\n",
    "\n",
    "attack = b\"A\" * 15 + b\"R\"\n",
    "print(len(attack))\n",
    "qs_attack = oracle.encrypt(attack)\n",
    "\n",
    "diff(qs_target, qs_attack)"
   ]
  },
  {
   "cell_type": "code",
   "execution_count": 4,
   "id": "1d2c0be4-f340-4f19-b869-38034c4eb873",
   "metadata": {},
   "outputs": [
    {
     "name": "stdout",
     "output_type": "stream",
     "text": [
      "16\n",
      "1:  b'Q1k\\x8b\\xda\\xc9/zj\\x1a\\xe8\\xca\\x0c\\xc4\\x86\\xad'\n",
      "2:  b'Q1k\\x8b\\xda\\xc9/zj\\x1a\\xe8\\xca\\x0c\\xc4\\x86\\xad'\n",
      "1:  b'\\xa4\\xc5\\x9a\\xceV\\x891m|\\xc7y\\xfd\\x95\\x99\\x85\\x8e'\n",
      "2:  b'Q1k\\x8b\\xda\\xc9/zj\\x1a\\xe8\\xca\\x0c\\xc4\\x86\\xad'\n",
      "1:  b'\\x1a\\xc5\\xf3\\x03\\x94D\\xc0\\xd0/\\x17\\x0f\\x97\\x86\\\\\\x8a\\xf7'\n",
      "2:  b'\\xa4\\xc5\\x9a\\xceV\\x891m|\\xc7y\\xfd\\x95\\x99\\x85\\x8e'\n",
      "1:  b'V\\x83B\\x95\\x83\\x84n7\\xba\\xd9\\x1c\\xa2pR\\xe1\\xd1'\n",
      "2:  b'\\x1a\\xc5\\xf3\\x03\\x94D\\xc0\\xd0/\\x17\\x0f\\x97\\x86\\\\\\x8a\\xf7'\n",
      "1:  b'K\\xcd\\xa1b\\x80\\xa2\\xe3|K\\xa7\\xd6y\\x00\\x98+c'\n",
      "2:  b'V\\x83B\\x95\\x83\\x84n7\\xba\\xd9\\x1c\\xa2pR\\xe1\\xd1'\n",
      "1:  b'\\x0f\\x8dqR{\\xbf\\xc3/\\xf3sO4\\x05a\\xc4\\xf8'\n",
      "2:  b'K\\xcd\\xa1b\\x80\\xa2\\xe3|K\\xa7\\xd6y\\x00\\x98+c'\n",
      "1:  b'YfJ\\xd5\\x02p!Q\\xd6g\\x8f\\x82\\xc1\\n\\x93\\x0b'\n",
      "2:  b'\\x0f\\x8dqR{\\xbf\\xc3/\\xf3sO4\\x05a\\xc4\\xf8'\n",
      "1:  b'\\xd0w\\xcf*\\x8cO,\\x85@3N\\n\\xb2\\x9fv('\n",
      "2:  b'YfJ\\xd5\\x02p!Q\\xd6g\\x8f\\x82\\xc1\\n\\x93\\x0b'\n",
      "1:  b'\\xffc\\xa64\\x83\\xc5\\x90\\xaa|N\\xdb\\xe6\\x1eqJE'\n",
      "2:  b'\\xd0w\\xcf*\\x8cO,\\x85@3N\\n\\xb2\\x9fv('\n"
     ]
    }
   ],
   "source": [
    "target = b\"\"\n",
    "qs_target = oracle.encrypt(target)\n",
    "\n",
    "attack = b\"Rollin' in my 5.\"\n",
    "print(len(attack))\n",
    "qs_attack = oracle.encrypt(attack)\n",
    "\n",
    "diff(qs_target, qs_attack)"
   ]
  },
  {
   "cell_type": "code",
   "execution_count": 5,
   "id": "58a645e4-1b47-4003-b1bd-e54d144c2543",
   "metadata": {},
   "outputs": [
    {
     "name": "stdout",
     "output_type": "stream",
     "text": [
      "16\n",
      "32\n",
      "1:  b'\\x81|\\xf7\\x80\\xfd\\x9f z\\xcce\\x04q(\\xf6v\\xe3'\n",
      "2:  b'z\\\\QI\\x94\\x1cf\\xf5zJ3\\xe3\\xc0\\x91c\\xb2'\n",
      "|Rollin' in my 5.|\n",
      "|0\\nWith my rag-t|\n",
      "|op down so my ha|\n",
      "|ir can blow\\nThe|\n",
      "| girlies on stan|\n",
      "|dby waving just |\n",
      "|to say hi\\nDid y|\n",
      "|ou stop? No, I j|\n",
      "|ust drove by|\n"
     ]
    }
   ],
   "source": [
    "print(len(b\"Rollin' in my 5.\"))\n",
    "target = b\"Rollin' in my 5.\" + b\"A\" * 15\n",
    "qs_target = oracle.encrypt(target)[16:32]\n",
    "\n",
    "attack = b\"Rollin' in my 5.\" + b\"A\" * 15 + b\"0\"\n",
    "print(len(attack))\n",
    "qs_attack = oracle.encrypt(attack)[16:32]\n",
    "\n",
    "diff(qs_target, qs_attack)\n",
    "split16(sol)"
   ]
  },
  {
   "cell_type": "code",
   "execution_count": 6,
   "id": "89887aa9-8a53-4b14-bad5-0043ff17dded",
   "metadata": {},
   "outputs": [
    {
     "name": "stdout",
     "output_type": "stream",
     "text": [
      "31\n",
      "1:  817cf780fd9f207acc65047128f676e3\n",
      "2:  817cf780fd9f207acc65047128f676e3\n",
      "1:  9c940bdd74396e44771237f85c6d0dca\n",
      "2:  36de56bba4b8ba441f1b1e3ab67ae3db\n",
      "1:  c75173a66dfc1ec96e6c92a64ca7beb1\n",
      "2:  9c940bdd74396e44771237f85c6d0dca\n",
      "1:  1decf7cc55b4f3e90e1d4480c3ec22e5\n",
      "2:  c75173a66dfc1ec96e6c92a64ca7beb1\n",
      "1:  13f6b1a3fd85c6b40750cd3c006f24c5\n",
      "2:  1decf7cc55b4f3e90e1d4480c3ec22e5\n",
      "1:  450855732e519a005ffd1a04ad2f855f\n",
      "2:  13f6b1a3fd85c6b40750cd3c006f24c5\n",
      "1:  f5a3e61d0e341fc94060494d152d8ea6\n",
      "2:  450855732e519a005ffd1a04ad2f855f\n",
      "1:  3da9dadec96a6c7821a481197b1065f3\n",
      "2:  f5a3e61d0e341fc94060494d152d8ea6\n",
      "1:  a8b81990f4830620e43ee434ecfea74c\n",
      "2:  3da9dadec96a6c7821a481197b1065f3\n",
      "1:  eb5d24ce25530f5885a06a67c889efe1\n",
      "2:  a8b81990f4830620e43ee434ecfea74c\n"
     ]
    }
   ],
   "source": [
    "target = b\"A\" * 15\n",
    "qs_target = oracle.encrypt(target)\n",
    "\n",
    "attack = b\"A\" * 15 + b\"Rollin' in my 5.\"\n",
    "print(len(attack))\n",
    "qs_attack = oracle.encrypt(attack)\n",
    "\n",
    "diff(qs_target, qs_attack, digest=True)"
   ]
  },
  {
   "cell_type": "code",
   "execution_count": 7,
   "id": "d7ab3e9e-ab6b-459d-8794-ce00444cda6c",
   "metadata": {},
   "outputs": [
    {
     "name": "stdout",
     "output_type": "stream",
     "text": [
      "|AAAAAAAAAAAAAAAR|\n",
      "|ollin' in my 5.0|\n",
      "|\\nWith my rag-to|\n",
      "|p down so my hai|\n",
      "|r can blow\\nThe |\n",
      "|girlies on stand|\n",
      "|by waving just t|\n",
      "|o say hi\\nDid yo|\n",
      "|u stop? No, I ju|\n",
      "|st drove by|\n"
     ]
    }
   ],
   "source": [
    "split16(\"A\"*15 + sol)"
   ]
  },
  {
   "cell_type": "code",
   "execution_count": 8,
   "id": "de4bb5f9-c777-4804-a8ec-57769e224714",
   "metadata": {},
   "outputs": [
    {
     "name": "stdout",
     "output_type": "stream",
     "text": [
      "30\n",
      "1:  9336e8bc26dede050d2fd5d7a2233952\n",
      "2:  6acb677b94e5c6e4cf9b39453552ada1\n",
      "1:  f12ee8dd13da35f1402f04a515459cf0\n",
      "2:  9336e8bc26dede050d2fd5d7a2233952\n",
      "1:  3b19caaa7b336cbf7a66c5567c253ae0\n",
      "2:  f12ee8dd13da35f1402f04a515459cf0\n",
      "1:  9f99c958a2ea0ee37899321a459eb91f\n",
      "2:  3b19caaa7b336cbf7a66c5567c253ae0\n",
      "1:  b7c1a57e09d11cce9ea564f012778c38\n",
      "2:  9f99c958a2ea0ee37899321a459eb91f\n",
      "1:  8c52529c310d2469d720345a034ccc20\n",
      "2:  b7c1a57e09d11cce9ea564f012778c38\n",
      "1:  25dc9c80d2547c215cf4b6bdfea9e20a\n",
      "2:  8c52529c310d2469d720345a034ccc20\n",
      "1:  c0fed5ecc6b6e538724ec40950d70ea6\n",
      "2:  25dc9c80d2547c215cf4b6bdfea9e20a\n",
      "1:  faf1d132914652eb28487313193f8185\n",
      "2:  c0fed5ecc6b6e538724ec40950d70ea6\n",
      "1:  062d89861a3d634bb3f8df16480b0912\n",
      "2:  faf1d132914652eb28487313193f8185\n"
     ]
    }
   ],
   "source": [
    "target = b\"A\" * 14\n",
    "qs_target = oracle.encrypt(target)\n",
    "\n",
    "attack = b\"A\" * 14 + b\"A\" * 16\n",
    "print(len(attack))\n",
    "qs_attack = oracle.encrypt(attack)\n",
    "\n",
    "diff(qs_target, qs_attack, digest=True)"
   ]
  },
  {
   "cell_type": "code",
   "execution_count": 91,
   "id": "3c05fd11-7028-47ae-aed9-94eec536a46b",
   "metadata": {},
   "outputs": [
    {
     "name": "stdout",
     "output_type": "stream",
     "text": [
      "b\"Rollin' in my 5.0\\nWith my rag-top down so my hair can blow\\nThe girlies on standby waving just to say hi\\nDid you stop? No, I just drove by\\n\\x01\"\n"
     ]
    }
   ],
   "source": [
    "found = b\"\"\n",
    "start = 0\n",
    "end = 16\n",
    "\n",
    "for k in range(0, 9):\n",
    "    offset = 15\n",
    "    \n",
    "    for _ in range(16):\n",
    "        target = b\"A\" * offset\n",
    "        guess = oracle.encrypt(target)[start:end]\n",
    "        \n",
    "        for char in range(256):\n",
    "            query = target + found + bytes([char])\n",
    "            query_guess = oracle.encrypt(query)[start:end]\n",
    "            if guess == query_guess:\n",
    "                #diff(oracle.encrypt(target), oracle.encrypt(query), digest=True)\n",
    "                #print(\"- \" + chr(char) + \" -\")\n",
    "                offset -= 1\n",
    "                found = found + bytes([char])\n",
    "                break\n",
    "                \n",
    "    start += 16\n",
    "    end += 16\n",
    "\n",
    "print(found)"
   ]
  },
  {
   "cell_type": "code",
   "execution_count": 99,
   "id": "f05eabb0-7c0f-4748-b899-ce1558bee270",
   "metadata": {},
   "outputs": [
    {
     "name": "stdout",
     "output_type": "stream",
     "text": [
      "0: 4d6ed08518ef8ce545266136130edb2c\n",
      "0: 817cf780fd9f207acc65047128f676e3\n",
      "16: 3a6f8fc36578447c51c5d6c5315081aa\n",
      "16: 3a6f8fc36578447c51c5d6c5315081aa\n",
      "32: ab2d309f209e0468380852f2e8e8d911\n",
      "32: ab2d309f209e0468380852f2e8e8d911\n",
      "48: 76e357308a7e218e17e2c38476c7043c\n",
      "48: 76e357308a7e218e17e2c38476c7043c\n",
      "64: 7af1df59d9cf9862167a677bc62f4b4e\n",
      "64: 7af1df59d9cf9862167a677bc62f4b4e\n",
      "80: dd189bb4ee5b00f0d34a92af30587ccb\n",
      "80: dd189bb4ee5b00f0d34a92af30587ccb\n",
      "96: e515178990bb1733d6db93cd6d45fc41\n",
      "96: e515178990bb1733d6db93cd6d45fc41\n",
      "112: ee3823f35ba42b51e7478a964948c698\n",
      "112: ee3823f35ba42b51e7478a964948c698\n",
      "128: 98282a3143924ca7033c1a2c412632cd\n",
      "128: 98282a3143924ca7033c1a2c412632cd\n",
      "144: 46d1e7a1dd2b6dd78b4c0d9a6b4dda02\n",
      "144: 46d1e7a1dd2b6dd78b4c0d9a6b4dda02\n",
      "160: a47baca7e64c8ffbb4ce415885fe75ec\n",
      "160: a47baca7e64c8ffbb4ce415885fe75ec\n",
      "176: f6a54289a0188d6c3aa73e802c023aae\n",
      "176: f6a54289a0188d6c3aa73e802c023aae\n",
      "192: 60571ed7fd8823e72108968edea7cf6c\n",
      "192: 60571ed7fd8823e72108968edea7cf6c\n",
      "208: 79c988517a0dda9ac2937032392110fa\n",
      "208: 79c988517a0dda9ac2937032392110fa\n",
      "224: b753d7f38776b9a958c3e6409e8ea868\n",
      "224: b753d7f38776b9a958c3e6409e8ea868\n",
      "240: 476db09cde382efcae81582027459f62\n",
      "240: 476db09cde382efcae81582027459f62\n",
      "256: c39acd6daed0f0f3de227c5eadd0acde\n",
      "256: c39acd6daed0f0f3de227c5eadd0acde\n",
      "272: 5762bab0a2f5960cd823a7d588c635c7\n",
      "272: 5762bab0a2f5960cd823a7d588c635c7\n"
     ]
    }
   ],
   "source": [
    "sola = b'''AAAAAAAAAAAAAAA?.0\\\\nWith my rag-top down so my hair can blow\\\\nThe girlies on standby waving just to say hi\\\\nDid you stop? No, I just drove by'''\n",
    "solb = b'''AAAAAAAAAAAAAAAR.0\\\\nWith my rag-top down so my hair can blow\\\\nThe girlies on standby waving just to say hi\\\\nDid you stop? No, I just drove by'''\n",
    "diff(oracle.encrypt(sola), oracle.encrypt(solb), digest=True)"
   ]
  },
  {
   "cell_type": "code",
   "execution_count": null,
   "id": "bbae3af7-4e51-4944-81bf-7bdd3aee2981",
   "metadata": {},
   "outputs": [],
   "source": []
  }
 ],
 "metadata": {
  "kernelspec": {
   "display_name": "Python 3 (ipykernel)",
   "language": "python",
   "name": "python3"
  },
  "language_info": {
   "codemirror_mode": {
    "name": "ipython",
    "version": 3
   },
   "file_extension": ".py",
   "mimetype": "text/x-python",
   "name": "python",
   "nbconvert_exporter": "python",
   "pygments_lexer": "ipython3",
   "version": "3.11.5"
  }
 },
 "nbformat": 4,
 "nbformat_minor": 5
}
